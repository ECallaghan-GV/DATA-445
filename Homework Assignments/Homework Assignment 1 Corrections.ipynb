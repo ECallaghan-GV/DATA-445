{
 "cells": [
  {
   "cell_type": "markdown",
   "id": "c4db98d4",
   "metadata": {},
   "source": [
    "# Corrections: Homework Assignment 1 - Evan Callaghan\n",
    "\n",
    "## 1. What type of algorithm would you use to segment a company customers database into multiple groups? Explain\n",
    "### Correct\n",
    "#### If you don’t know how to define the groups, then you can use a clustering algorithm (unsupervised learning), such as k-means, to segment your customers into clusters of similar customers. However, if you know what groups you would like to have, then you can feed many examples of each group to a classification algorithm (supervised learning), and it will classify all the customers into these groups.\n",
    "\n",
    "## 2. Would you frame the problem of spam detection as a supervised learning problem or an unsupervised learning problem? Explain.\n",
    "### Correct\n",
    "#### Spam detection is a typical supervised learning problem: the algorithm is fed many emails along with their labels (spam or not spam).\n",
    "\n",
    "## 3.  What is a test set, and why would you want to use it?\n",
    "### Correct\n",
    "#### The test set is used to estimate the error that a model will make on new observations, before the model in launched in a production environment.\n",
    "\n",
    "## 4. You are training a classification model with 100 variables/features that achieves 95% accuracy in the training dataset. However, when you run it in the test dataset, you only get 60% accuracy. Which of the following options are valid approached to solve this problem?\n",
    "### Correct\n",
    "#### E. Reduce the number of input variables/features and implement cross-validation during the training process.\n",
    "#### This is clearly an overfitting issue. In order to solve this type of problem, you could reduce the excessive number of features (which will reduce the complexity of the model and make it less dependent on the training set). Additionally, you could also implement cross-validation during the training process."
   ]
  },
  {
   "cell_type": "code",
   "execution_count": 1,
   "id": "639c1995",
   "metadata": {},
   "outputs": [
    {
     "data": {
      "text/html": [
       "<div>\n",
       "<style scoped>\n",
       "    .dataframe tbody tr th:only-of-type {\n",
       "        vertical-align: middle;\n",
       "    }\n",
       "\n",
       "    .dataframe tbody tr th {\n",
       "        vertical-align: top;\n",
       "    }\n",
       "\n",
       "    .dataframe thead th {\n",
       "        text-align: right;\n",
       "    }\n",
       "</style>\n",
       "<table border=\"1\" class=\"dataframe\">\n",
       "  <thead>\n",
       "    <tr style=\"text-align: right;\">\n",
       "      <th></th>\n",
       "      <th>No</th>\n",
       "      <th>transaction_date</th>\n",
       "      <th>house_age</th>\n",
       "      <th>distance_to_the_nearest_MRT_station</th>\n",
       "      <th>number_of_convenience_stores</th>\n",
       "      <th>latitude</th>\n",
       "      <th>longitude</th>\n",
       "      <th>house_price_of_unit_area</th>\n",
       "    </tr>\n",
       "  </thead>\n",
       "  <tbody>\n",
       "    <tr>\n",
       "      <th>0</th>\n",
       "      <td>1</td>\n",
       "      <td>2012.917</td>\n",
       "      <td>32.0</td>\n",
       "      <td>84.87882</td>\n",
       "      <td>10</td>\n",
       "      <td>24.98298</td>\n",
       "      <td>121.54024</td>\n",
       "      <td>37.9</td>\n",
       "    </tr>\n",
       "    <tr>\n",
       "      <th>1</th>\n",
       "      <td>2</td>\n",
       "      <td>2012.917</td>\n",
       "      <td>19.5</td>\n",
       "      <td>306.59470</td>\n",
       "      <td>9</td>\n",
       "      <td>24.98034</td>\n",
       "      <td>121.53951</td>\n",
       "      <td>42.2</td>\n",
       "    </tr>\n",
       "    <tr>\n",
       "      <th>2</th>\n",
       "      <td>3</td>\n",
       "      <td>2013.583</td>\n",
       "      <td>13.3</td>\n",
       "      <td>561.98450</td>\n",
       "      <td>5</td>\n",
       "      <td>24.98746</td>\n",
       "      <td>121.54391</td>\n",
       "      <td>47.3</td>\n",
       "    </tr>\n",
       "    <tr>\n",
       "      <th>3</th>\n",
       "      <td>4</td>\n",
       "      <td>2013.500</td>\n",
       "      <td>13.3</td>\n",
       "      <td>561.98450</td>\n",
       "      <td>5</td>\n",
       "      <td>24.98746</td>\n",
       "      <td>121.54391</td>\n",
       "      <td>54.8</td>\n",
       "    </tr>\n",
       "    <tr>\n",
       "      <th>4</th>\n",
       "      <td>5</td>\n",
       "      <td>2012.833</td>\n",
       "      <td>5.0</td>\n",
       "      <td>390.56840</td>\n",
       "      <td>5</td>\n",
       "      <td>24.97937</td>\n",
       "      <td>121.54245</td>\n",
       "      <td>43.1</td>\n",
       "    </tr>\n",
       "  </tbody>\n",
       "</table>\n",
       "</div>"
      ],
      "text/plain": [
       "   No  transaction_date  house_age  distance_to_the_nearest_MRT_station  \\\n",
       "0   1          2012.917       32.0                             84.87882   \n",
       "1   2          2012.917       19.5                            306.59470   \n",
       "2   3          2013.583       13.3                            561.98450   \n",
       "3   4          2013.500       13.3                            561.98450   \n",
       "4   5          2012.833        5.0                            390.56840   \n",
       "\n",
       "   number_of_convenience_stores  latitude  longitude  house_price_of_unit_area  \n",
       "0                            10  24.98298  121.54024                      37.9  \n",
       "1                             9  24.98034  121.53951                      42.2  \n",
       "2                             5  24.98746  121.54391                      47.3  \n",
       "3                             5  24.98746  121.54391                      54.8  \n",
       "4                             5  24.97937  121.54245                      43.1  "
      ]
     },
     "execution_count": 1,
     "metadata": {},
     "output_type": "execute_result"
    }
   ],
   "source": [
    "import boto3\n",
    "import pandas as pd\n",
    "\n",
    "## Defining the bucket\n",
    "s3 = boto3.resource('s3')\n",
    "bucket_name = 'data-445-bucket-callaghan'\n",
    "bucket = s3.Bucket(bucket_name)\n",
    "\n",
    "## Defining the csv file\n",
    "file_key = 'Real_Estate.csv'\n",
    "\n",
    "bucket_object = bucket.Object(file_key)\n",
    "file_object = bucket_object.get()\n",
    "file_content_stream = file_object.get('Body')\n",
    "\n",
    "\n",
    "## 5. a) Using the pandas library to read the csv data file and create a data-frame\n",
    "\n",
    "house_price = pd.read_csv(file_content_stream)\n",
    "\n",
    "house_price.head()"
   ]
  },
  {
   "cell_type": "code",
   "execution_count": 2,
   "id": "a7c99884",
   "metadata": {},
   "outputs": [
    {
     "data": {
      "text/html": [
       "<div>\n",
       "<style scoped>\n",
       "    .dataframe tbody tr th:only-of-type {\n",
       "        vertical-align: middle;\n",
       "    }\n",
       "\n",
       "    .dataframe tbody tr th {\n",
       "        vertical-align: top;\n",
       "    }\n",
       "\n",
       "    .dataframe thead th {\n",
       "        text-align: right;\n",
       "    }\n",
       "</style>\n",
       "<table border=\"1\" class=\"dataframe\">\n",
       "  <thead>\n",
       "    <tr style=\"text-align: right;\">\n",
       "      <th></th>\n",
       "      <th>house_age</th>\n",
       "      <th>distance_to_the_nearest_MRT_station</th>\n",
       "      <th>number_of_convenience_stores</th>\n",
       "      <th>latitude</th>\n",
       "      <th>longitude</th>\n",
       "      <th>house_price_of_unit_area</th>\n",
       "    </tr>\n",
       "  </thead>\n",
       "  <tbody>\n",
       "    <tr>\n",
       "      <th>0</th>\n",
       "      <td>32.0</td>\n",
       "      <td>84.87882</td>\n",
       "      <td>10</td>\n",
       "      <td>24.98298</td>\n",
       "      <td>121.54024</td>\n",
       "      <td>37.9</td>\n",
       "    </tr>\n",
       "    <tr>\n",
       "      <th>1</th>\n",
       "      <td>19.5</td>\n",
       "      <td>306.59470</td>\n",
       "      <td>9</td>\n",
       "      <td>24.98034</td>\n",
       "      <td>121.53951</td>\n",
       "      <td>42.2</td>\n",
       "    </tr>\n",
       "    <tr>\n",
       "      <th>2</th>\n",
       "      <td>13.3</td>\n",
       "      <td>561.98450</td>\n",
       "      <td>5</td>\n",
       "      <td>24.98746</td>\n",
       "      <td>121.54391</td>\n",
       "      <td>47.3</td>\n",
       "    </tr>\n",
       "    <tr>\n",
       "      <th>3</th>\n",
       "      <td>13.3</td>\n",
       "      <td>561.98450</td>\n",
       "      <td>5</td>\n",
       "      <td>24.98746</td>\n",
       "      <td>121.54391</td>\n",
       "      <td>54.8</td>\n",
       "    </tr>\n",
       "    <tr>\n",
       "      <th>4</th>\n",
       "      <td>5.0</td>\n",
       "      <td>390.56840</td>\n",
       "      <td>5</td>\n",
       "      <td>24.97937</td>\n",
       "      <td>121.54245</td>\n",
       "      <td>43.1</td>\n",
       "    </tr>\n",
       "  </tbody>\n",
       "</table>\n",
       "</div>"
      ],
      "text/plain": [
       "   house_age  distance_to_the_nearest_MRT_station  \\\n",
       "0       32.0                             84.87882   \n",
       "1       19.5                            306.59470   \n",
       "2       13.3                            561.98450   \n",
       "3       13.3                            561.98450   \n",
       "4        5.0                            390.56840   \n",
       "\n",
       "   number_of_convenience_stores  latitude  longitude  house_price_of_unit_area  \n",
       "0                            10  24.98298  121.54024                      37.9  \n",
       "1                             9  24.98034  121.53951                      42.2  \n",
       "2                             5  24.98746  121.54391                      47.3  \n",
       "3                             5  24.98746  121.54391                      54.8  \n",
       "4                             5  24.97937  121.54245                      43.1  "
      ]
     },
     "execution_count": 2,
     "metadata": {},
     "output_type": "execute_result"
    }
   ],
   "source": [
    "## b) Dropping the No and transaction_date columns\n",
    "\n",
    "house_price = house_price.drop(columns = ['No', 'transaction_date'], axis = 1)\n",
    "\n",
    "house_price.head()"
   ]
  },
  {
   "cell_type": "code",
   "execution_count": 3,
   "id": "5c6e09a3",
   "metadata": {},
   "outputs": [],
   "source": [
    "## c) Splitting the data-frame into two data-frames: train (80%) and test (20%)\n",
    "\n",
    "## Input: house age, distance to the nearest MRT station, number of convenience stores, latitude, and longitude\n",
    "## Target: house price of unit area\n",
    "\n",
    "from sklearn.model_selection import train_test_split\n",
    "from sklearn.linear_model import LinearRegression\n",
    "import numpy as np\n",
    "\n",
    "## Defining the input and target variables\n",
    "X = house_price[['house_age', 'distance_to_the_nearest_MRT_station', 'number_of_convenience_stores', 'latitude', 'longitude']]\n",
    "Y = house_price['house_price_of_unit_area']\n",
    "\n",
    "## Splitting the data\n",
    "X_train, X_test, Y_train, Y_test = train_test_split(X, Y, test_size = 0.2)"
   ]
  },
  {
   "cell_type": "code",
   "execution_count": 4,
   "id": "3a497413",
   "metadata": {},
   "outputs": [
    {
     "name": "stdout",
     "output_type": "stream",
     "text": [
      "MSE: 62.64412947534932\n"
     ]
    }
   ],
   "source": [
    "## d) Using the train data-frame to build a linear regression model\n",
    "\n",
    "## Building the model\n",
    "lm_md = LinearRegression().fit(X_train, Y_train)\n",
    "\n",
    "# Predicting the house price of unit area of the houses in the test data-frame\n",
    "preds = lm_md.predict(X_test)\n",
    "\n",
    "## Computing the MSE\n",
    "MSE = np.mean(np.power(preds - Y_test, 2))\n",
    "\n",
    "print('MSE:', MSE)\n",
    "\n",
    "## The MSE of the first linear regression model is about 62.6"
   ]
  },
  {
   "cell_type": "code",
   "execution_count": 5,
   "id": "8dfdb9ef",
   "metadata": {},
   "outputs": [
    {
     "name": "stdout",
     "output_type": "stream",
     "text": [
      "MSE: 75.92722602107501\n"
     ]
    }
   ],
   "source": [
    "## e) Using the train data-frame to build a linear regression model\n",
    "\n",
    "## Input: house age, number of convenience stores, latitude, and longitude\n",
    "## Target: house price of unit area\n",
    "\n",
    "X_train_new = X_train.drop(columns = ['distance_to_the_nearest_MRT_station'], axis = 1)\n",
    "X_test_new = X_test.drop(columns = ['distance_to_the_nearest_MRT_station'], axis = 1)\n",
    "\n",
    "## Building the model\n",
    "lm_md = LinearRegression().fit(X_train_new, Y_train)\n",
    "\n",
    "# Predicting the house price of unit area of the houses in the test data-frame\n",
    "preds = lm_md.predict(X_test_new)\n",
    "\n",
    "## Computing the MSE\n",
    "MSE = np.mean(np.power(preds - Y_test, 2))\n",
    "\n",
    "print('MSE:', MSE)\n",
    "\n",
    "## The MSE of the second linear regression model is about 75.9"
   ]
  },
  {
   "cell_type": "code",
   "execution_count": null,
   "id": "ce578fb3",
   "metadata": {},
   "outputs": [],
   "source": [
    "## f) In model selection, a lower mean square error value indicates that the model is a better fit. Therefore, using the results from parts (d) and (e), \n",
    "## we would select the first linear regression model because it has a lower MSE."
   ]
  },
  {
   "cell_type": "code",
   "execution_count": 9,
   "id": "6773453a",
   "metadata": {},
   "outputs": [
    {
     "name": "stdout",
     "output_type": "stream",
     "text": [
      "MSE Model 1: 79.65282562689978\n"
     ]
    },
    {
     "data": {
      "image/png": "[encoded data removed]",
      "text/plain": [
       "<Figure size 432x288 with 1 Axes>"
      ]
     },
     "metadata": {
      "needs_background": "light"
     },
     "output_type": "display_data"
    },
    {
     "name": "stdout",
     "output_type": "stream",
     "text": [
      "MSE Model 2: 86.3525221233368\n"
     ]
    },
    {
     "data": {
      "image/png": "[encoded data removed]",
      "text/plain": [
       "<Figure size 432x288 with 1 Axes>"
      ]
     },
     "metadata": {
      "needs_background": "light"
     },
     "output_type": "display_data"
    }
   ],
   "source": [
    "## g) Repeating steps (c) to (e) 100 times, and visualizing the MSE of each of the models at each iteration\n",
    "\n",
    "import matplotlib.pyplot as plt\n",
    "\n",
    "md1_results = []\n",
    "md2_results = []\n",
    "\n",
    "for i in range(0, 100):\n",
    "    \n",
    "    ## Splitting the data\n",
    "    X_train, X_test, Y_train, Y_test = train_test_split(X, Y, test_size = 0.2)\n",
    "    \n",
    "    ## Defining data for the second model\n",
    "    X_train_new = X_train.drop(columns = ['distance_to_the_nearest_MRT_station'], axis = 1)\n",
    "    X_test_new = X_test.drop(columns = ['distance_to_the_nearest_MRT_station'], axis = 1)\n",
    "    \n",
    "    ## Model 1\n",
    "    md1 = LinearRegression().fit(X_train, Y_train)\n",
    "    pred1 = md1.predict(X_test)\n",
    "    mse1 = np.mean(np.power(pred1 - Y_test, 2))\n",
    "    md1_results.append(mse1)\n",
    "\n",
    "    ## Model 2\n",
    "    md2 = LinearRegression().fit(X_train_new, Y_train)\n",
    "    pred2 = md2.predict(X_test_new)\n",
    "    mse2 = np.mean(np.power(pred2 - Y_test, 2))\n",
    "    md2_results.append(mse2)\n",
    "\n",
    "\n",
    "\n",
    "print('MSE Model 1:', np.mean(md1_results))\n",
    "\n",
    "plt.hist(md1_results)\n",
    "plt.title('Model 1')\n",
    "plt.xlabel('MSE')\n",
    "plt.ylabel('Frequency')\n",
    "plt.grid()\n",
    "plt.show()\n",
    "\n",
    "\n",
    "print('MSE Model 2:', np.mean(md2_results))\n",
    "\n",
    "plt.hist(md2_results)\n",
    "plt.title('Model 2')\n",
    "plt.xlabel('MSE')\n",
    "plt.ylabel('Frequency')\n",
    "plt.grid()\n",
    "plt.show()\n",
    "\n",
    "\n",
    "## Over 100 iterations, we can see that the MSE of Model 1 (79.6) is lower than that of Model 2 (86.4). Therefore, Model 1 has the better \n",
    "## performance on the test data sets (lower error is always preferred)."
   ]
  }
 ],
 "metadata": {
  "kernelspec": {
   "display_name": "conda_python3",
   "language": "python",
   "name": "conda_python3"
  },
  "language_info": {
   "codemirror_mode": {
    "name": "ipython",
    "version": 3
   },
   "file_extension": ".py",
   "mimetype": "text/x-python",
   "name": "python",
   "nbconvert_exporter": "python",
   "pygments_lexer": "ipython3",
   "version": "3.6.13"
  }
 },
 "nbformat": 4,
 "nbformat_minor": 5
}

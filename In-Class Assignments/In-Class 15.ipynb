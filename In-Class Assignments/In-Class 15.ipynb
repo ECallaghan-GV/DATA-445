{
 "cells": [
  {
   "cell_type": "code",
   "execution_count": 9,
   "id": "69721b20",
   "metadata": {},
   "outputs": [
    {
     "data": {
      "text/html": [
       "<div>\n",
       "<style scoped>\n",
       "    .dataframe tbody tr th:only-of-type {\n",
       "        vertical-align: middle;\n",
       "    }\n",
       "\n",
       "    .dataframe tbody tr th {\n",
       "        vertical-align: top;\n",
       "    }\n",
       "\n",
       "    .dataframe thead th {\n",
       "        text-align: right;\n",
       "    }\n",
       "</style>\n",
       "<table border=\"1\" class=\"dataframe\">\n",
       "  <thead>\n",
       "    <tr style=\"text-align: right;\">\n",
       "      <th></th>\n",
       "      <th>male</th>\n",
       "      <th>age</th>\n",
       "      <th>education</th>\n",
       "      <th>currentSmoker</th>\n",
       "      <th>cigsPerDay</th>\n",
       "      <th>BPMeds</th>\n",
       "      <th>prevalentStroke</th>\n",
       "      <th>prevalentHyp</th>\n",
       "      <th>diabetes</th>\n",
       "      <th>totChol</th>\n",
       "      <th>sysBP</th>\n",
       "      <th>diaBP</th>\n",
       "      <th>BMI</th>\n",
       "      <th>heartRate</th>\n",
       "      <th>glucose</th>\n",
       "      <th>TenYearCHD</th>\n",
       "    </tr>\n",
       "  </thead>\n",
       "  <tbody>\n",
       "    <tr>\n",
       "      <th>0</th>\n",
       "      <td>1</td>\n",
       "      <td>39</td>\n",
       "      <td>4.0</td>\n",
       "      <td>0</td>\n",
       "      <td>0.0</td>\n",
       "      <td>0.0</td>\n",
       "      <td>0</td>\n",
       "      <td>0</td>\n",
       "      <td>0</td>\n",
       "      <td>195.0</td>\n",
       "      <td>106.0</td>\n",
       "      <td>70.0</td>\n",
       "      <td>26.97</td>\n",
       "      <td>80.0</td>\n",
       "      <td>77.0</td>\n",
       "      <td>0</td>\n",
       "    </tr>\n",
       "    <tr>\n",
       "      <th>1</th>\n",
       "      <td>0</td>\n",
       "      <td>46</td>\n",
       "      <td>2.0</td>\n",
       "      <td>0</td>\n",
       "      <td>0.0</td>\n",
       "      <td>0.0</td>\n",
       "      <td>0</td>\n",
       "      <td>0</td>\n",
       "      <td>0</td>\n",
       "      <td>250.0</td>\n",
       "      <td>121.0</td>\n",
       "      <td>81.0</td>\n",
       "      <td>28.73</td>\n",
       "      <td>95.0</td>\n",
       "      <td>76.0</td>\n",
       "      <td>0</td>\n",
       "    </tr>\n",
       "    <tr>\n",
       "      <th>2</th>\n",
       "      <td>1</td>\n",
       "      <td>48</td>\n",
       "      <td>1.0</td>\n",
       "      <td>1</td>\n",
       "      <td>20.0</td>\n",
       "      <td>0.0</td>\n",
       "      <td>0</td>\n",
       "      <td>0</td>\n",
       "      <td>0</td>\n",
       "      <td>245.0</td>\n",
       "      <td>127.5</td>\n",
       "      <td>80.0</td>\n",
       "      <td>25.34</td>\n",
       "      <td>75.0</td>\n",
       "      <td>70.0</td>\n",
       "      <td>0</td>\n",
       "    </tr>\n",
       "    <tr>\n",
       "      <th>3</th>\n",
       "      <td>0</td>\n",
       "      <td>61</td>\n",
       "      <td>3.0</td>\n",
       "      <td>1</td>\n",
       "      <td>30.0</td>\n",
       "      <td>0.0</td>\n",
       "      <td>0</td>\n",
       "      <td>1</td>\n",
       "      <td>0</td>\n",
       "      <td>225.0</td>\n",
       "      <td>150.0</td>\n",
       "      <td>95.0</td>\n",
       "      <td>28.58</td>\n",
       "      <td>65.0</td>\n",
       "      <td>103.0</td>\n",
       "      <td>1</td>\n",
       "    </tr>\n",
       "    <tr>\n",
       "      <th>4</th>\n",
       "      <td>0</td>\n",
       "      <td>46</td>\n",
       "      <td>3.0</td>\n",
       "      <td>1</td>\n",
       "      <td>23.0</td>\n",
       "      <td>0.0</td>\n",
       "      <td>0</td>\n",
       "      <td>0</td>\n",
       "      <td>0</td>\n",
       "      <td>285.0</td>\n",
       "      <td>130.0</td>\n",
       "      <td>84.0</td>\n",
       "      <td>23.10</td>\n",
       "      <td>85.0</td>\n",
       "      <td>85.0</td>\n",
       "      <td>0</td>\n",
       "    </tr>\n",
       "  </tbody>\n",
       "</table>\n",
       "</div>"
      ],
      "text/plain": [
       "   male  age  education  currentSmoker  cigsPerDay  BPMeds  prevalentStroke  \\\n",
       "0     1   39        4.0              0         0.0     0.0                0   \n",
       "1     0   46        2.0              0         0.0     0.0                0   \n",
       "2     1   48        1.0              1        20.0     0.0                0   \n",
       "3     0   61        3.0              1        30.0     0.0                0   \n",
       "4     0   46        3.0              1        23.0     0.0                0   \n",
       "\n",
       "   prevalentHyp  diabetes  totChol  sysBP  diaBP    BMI  heartRate  glucose  \\\n",
       "0             0         0    195.0  106.0   70.0  26.97       80.0     77.0   \n",
       "1             0         0    250.0  121.0   81.0  28.73       95.0     76.0   \n",
       "2             0         0    245.0  127.5   80.0  25.34       75.0     70.0   \n",
       "3             1         0    225.0  150.0   95.0  28.58       65.0    103.0   \n",
       "4             0         0    285.0  130.0   84.0  23.10       85.0     85.0   \n",
       "\n",
       "   TenYearCHD  \n",
       "0           0  \n",
       "1           0  \n",
       "2           0  \n",
       "3           1  \n",
       "4           0  "
      ]
     },
     "execution_count": 9,
     "metadata": {},
     "output_type": "execute_result"
    }
   ],
   "source": [
    "## In-Class Assignment 15 - Evan Callaghan\n",
    "\n",
    "import boto3\n",
    "import pandas as pd\n",
    "import numpy as np\n",
    "from sklearn.model_selection import train_test_split\n",
    "from sklearn.ensemble import RandomForestClassifier, AdaBoostClassifier\n",
    "from sklearn.tree import DecisionTreeClassifier\n",
    "from sklearn.metrics import recall_score\n",
    "\n",
    "## Defining the bucket\n",
    "s3 = boto3.resource('s3')\n",
    "bucket_name = 'data-445-bucket-callaghan'\n",
    "bucket = s3.Bucket(bucket_name)\n",
    "\n",
    "## Defining the csv file\n",
    "file_key = 'framingham.csv'\n",
    "\n",
    "bucket_object = bucket.Object(file_key)\n",
    "file_object = bucket_object.get()\n",
    "file_content_stream = file_object.get('Body')\n",
    "\n",
    "## 1. Using the pandas library to read the csv data file and create a data-frame called heart\n",
    "heart = pd.read_csv(file_content_stream)\n",
    "\n",
    "heart.head()"
   ]
  },
  {
   "cell_type": "code",
   "execution_count": 10,
   "id": "25d62ba9",
   "metadata": {},
   "outputs": [],
   "source": [
    "## 2. Removing observations with missing values\n",
    "\n",
    "heart = heart.dropna()"
   ]
  },
  {
   "cell_type": "code",
   "execution_count": 11,
   "id": "91a59b2f",
   "metadata": {},
   "outputs": [],
   "source": [
    "## 3. Using male, age, currentSmoker, totChol, sysBP,BMI, heartRate, and glucose as the predictor variables and TenYearCHD \n",
    "## as the target variable to split the data into two data-frames (taking into account the proportion of 0s and 1s): \n",
    "## train (80%) and test (20%)\n",
    "\n",
    "X = heart[['male', 'age', 'currentSmoker', 'totChol', 'sysBP', 'BMI', 'heartRate', 'glucose']]\n",
    "Y = heart['TenYearCHD']\n",
    "\n",
    "X_train, X_test, Y_train, Y_test = train_test_split(X, Y, test_size = 0.2, stratify = Y)"
   ]
  },
  {
   "cell_type": "code",
   "execution_count": 12,
   "id": "1babdc17",
   "metadata": {},
   "outputs": [
    {
     "data": {
      "text/plain": [
       "array([0.01609932, 0.11416639, 0.01292099, 0.18016261, 0.17987095,\n",
       "       0.23969059, 0.10845223, 0.14863692])"
      ]
     },
     "execution_count": 12,
     "metadata": {},
     "output_type": "execute_result"
    }
   ],
   "source": [
    "## 4. Using the train data-frame to build an adaboost model (with 500 trees and max tree depth equal 3) in which: \n",
    "## male, age, currentSmoker, totChol, sysBP,BMI, heartRate, and glucose are the predictor variables, and TenYearCHD is the target variable\n",
    "\n",
    "## Building the model\n",
    "md1 = AdaBoostClassifier(base_estimator = DecisionTreeClassifier(max_depth = 3), n_estimators = 500).fit(X_train, Y_train)\n",
    "\n",
    "## Extracting variable importance\n",
    "md1.feature_importances_\n",
    "\n",
    "## Top 5: age, totChol, sysBP, BMI, glucose"
   ]
  },
  {
   "cell_type": "code",
   "execution_count": 14,
   "id": "4d2c9920",
   "metadata": {},
   "outputs": [
    {
     "name": "stdout",
     "output_type": "stream",
     "text": [
      "Recall score of AdaBoost Model: 1.0\n"
     ]
    }
   ],
   "source": [
    "## Using the top 5 variables from the adaboost model (the variables with the highest importance values) to build an adaboost\n",
    "## model (with 500 trees and max tree depth equal 3) in which TenYearCHD is the target variable\n",
    "\n",
    "X_train_ada = X_train[['age', 'totChol', 'sysBP', 'BMI', 'glucose']]\n",
    "X_test_ada = X_test[['age', 'totChol', 'sysBP', 'BMI', 'glucose']]\n",
    "\n",
    "## Building the model\n",
    "md1_top5 = AdaBoostClassifier(base_estimator = DecisionTreeClassifier(max_depth = 3), n_estimators = 500).fit(X_train_ada, Y_train)\n",
    "\n",
    "## Predicting on the test set\n",
    "md1_preds = md1_top5.predict_proba(X_test_ada)[:, 1]\n",
    "\n",
    "## Using 10% as cutoff value and reporting the recall\n",
    "md1_preds = np.where(md1_preds < 0.1, 0, 1)\n",
    "\n",
    "print('Recall score of AdaBoost Model:', recall_score(Y_test, md1_preds))"
   ]
  },
  {
   "cell_type": "code",
   "execution_count": 15,
   "id": "e73ea9a6",
   "metadata": {},
   "outputs": [
    {
     "data": {
      "text/plain": [
       "array([0.04415608, 0.31753208, 0.00524973, 0.08100804, 0.32213431,\n",
       "       0.06744544, 0.03320186, 0.12927246])"
      ]
     },
     "execution_count": 15,
     "metadata": {},
     "output_type": "execute_result"
    }
   ],
   "source": [
    "## 5. Using the train data-frame to build a random forest model (with 500 trees and max tree depth equal 3) in which: \n",
    "## male, age, currentSmoker, totChol, sysBP,BMI, heartRate, and glucose are the predictor variables, and TenYearCHD is the target variable\n",
    "\n",
    "md2 = RandomForestClassifier(n_estimators = 500, max_depth = 3).fit(X_train, Y_train)\n",
    "\n",
    "md2.feature_importances_\n",
    "\n",
    "## Top 5: age, sysBP, glucose, totChol, BMI"
   ]
  },
  {
   "cell_type": "code",
   "execution_count": 16,
   "id": "1e5907e1",
   "metadata": {},
   "outputs": [
    {
     "name": "stdout",
     "output_type": "stream",
     "text": [
      "Recall score of Random Forest Model: 0.7410714285714286\n"
     ]
    }
   ],
   "source": [
    "## Using the top 5 variables from the random forest model (the variables with the highest importance values) to build a random forest\n",
    "## model (with 500 trees and max tree depth equal 3) in which TenYearCHD is the target variable\n",
    "\n",
    "X_train_rf = X_train[['age', 'sysBP', 'glucose', 'totChol', 'BMI']]\n",
    "X_test_rf = X_test[['age', 'sysBP', 'glucose', 'totChol', 'BMI']]\n",
    "\n",
    "## Building the model\n",
    "md2_top5 = RandomForestClassifier(n_estimators = 500, max_depth = 3).fit(X_train_rf, Y_train)\n",
    "\n",
    "## Predicting on the test set\n",
    "md2_preds = md2_top5.predict_proba(X_test_rf)[:, 1]\n",
    "\n",
    "## Using 10% as cutoff value and reporting the recall.\n",
    "md2_preds = np.where(md2_preds < 0.1, 0, 1)\n",
    "\n",
    "print('Recall score of Random Forest Model:', recall_score(Y_test, md2_preds))"
   ]
  },
  {
   "cell_type": "code",
   "execution_count": null,
   "id": "9d78b1ca",
   "metadata": {},
   "outputs": [],
   "source": [
    "## 6. Using the results from parts (4) and (5), we would select the AdaBoost model to predict TenYearCHD\n",
    "## because it has the higher recall score of the two considered models."
   ]
  }
 ],
 "metadata": {
  "kernelspec": {
   "display_name": "conda_python3",
   "language": "python",
   "name": "conda_python3"
  },
  "language_info": {
   "codemirror_mode": {
    "name": "ipython",
    "version": 3
   },
   "file_extension": ".py",
   "mimetype": "text/x-python",
   "name": "python",
   "nbconvert_exporter": "python",
   "pygments_lexer": "ipython3",
   "version": "3.6.13"
  }
 },
 "nbformat": 4,
 "nbformat_minor": 5
}

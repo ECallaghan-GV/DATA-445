{
 "cells": [
  {
   "cell_type": "code",
   "execution_count": 1,
   "id": "942646fe",
   "metadata": {},
   "outputs": [
    {
     "data": {
      "text/html": [
       "<div>\n",
       "<style scoped>\n",
       "    .dataframe tbody tr th:only-of-type {\n",
       "        vertical-align: middle;\n",
       "    }\n",
       "\n",
       "    .dataframe tbody tr th {\n",
       "        vertical-align: top;\n",
       "    }\n",
       "\n",
       "    .dataframe thead th {\n",
       "        text-align: right;\n",
       "    }\n",
       "</style>\n",
       "<table border=\"1\" class=\"dataframe\">\n",
       "  <thead>\n",
       "    <tr style=\"text-align: right;\">\n",
       "      <th></th>\n",
       "      <th>male</th>\n",
       "      <th>age</th>\n",
       "      <th>education</th>\n",
       "      <th>currentSmoker</th>\n",
       "      <th>cigsPerDay</th>\n",
       "      <th>BPMeds</th>\n",
       "      <th>prevalentStroke</th>\n",
       "      <th>prevalentHyp</th>\n",
       "      <th>diabetes</th>\n",
       "      <th>totChol</th>\n",
       "      <th>sysBP</th>\n",
       "      <th>diaBP</th>\n",
       "      <th>BMI</th>\n",
       "      <th>heartRate</th>\n",
       "      <th>glucose</th>\n",
       "      <th>TenYearCHD</th>\n",
       "    </tr>\n",
       "  </thead>\n",
       "  <tbody>\n",
       "    <tr>\n",
       "      <th>0</th>\n",
       "      <td>1</td>\n",
       "      <td>39</td>\n",
       "      <td>4.0</td>\n",
       "      <td>0</td>\n",
       "      <td>0.0</td>\n",
       "      <td>0.0</td>\n",
       "      <td>0</td>\n",
       "      <td>0</td>\n",
       "      <td>0</td>\n",
       "      <td>195.0</td>\n",
       "      <td>106.0</td>\n",
       "      <td>70.0</td>\n",
       "      <td>26.97</td>\n",
       "      <td>80.0</td>\n",
       "      <td>77.0</td>\n",
       "      <td>0</td>\n",
       "    </tr>\n",
       "    <tr>\n",
       "      <th>1</th>\n",
       "      <td>0</td>\n",
       "      <td>46</td>\n",
       "      <td>2.0</td>\n",
       "      <td>0</td>\n",
       "      <td>0.0</td>\n",
       "      <td>0.0</td>\n",
       "      <td>0</td>\n",
       "      <td>0</td>\n",
       "      <td>0</td>\n",
       "      <td>250.0</td>\n",
       "      <td>121.0</td>\n",
       "      <td>81.0</td>\n",
       "      <td>28.73</td>\n",
       "      <td>95.0</td>\n",
       "      <td>76.0</td>\n",
       "      <td>0</td>\n",
       "    </tr>\n",
       "    <tr>\n",
       "      <th>2</th>\n",
       "      <td>1</td>\n",
       "      <td>48</td>\n",
       "      <td>1.0</td>\n",
       "      <td>1</td>\n",
       "      <td>20.0</td>\n",
       "      <td>0.0</td>\n",
       "      <td>0</td>\n",
       "      <td>0</td>\n",
       "      <td>0</td>\n",
       "      <td>245.0</td>\n",
       "      <td>127.5</td>\n",
       "      <td>80.0</td>\n",
       "      <td>25.34</td>\n",
       "      <td>75.0</td>\n",
       "      <td>70.0</td>\n",
       "      <td>0</td>\n",
       "    </tr>\n",
       "    <tr>\n",
       "      <th>3</th>\n",
       "      <td>0</td>\n",
       "      <td>61</td>\n",
       "      <td>3.0</td>\n",
       "      <td>1</td>\n",
       "      <td>30.0</td>\n",
       "      <td>0.0</td>\n",
       "      <td>0</td>\n",
       "      <td>1</td>\n",
       "      <td>0</td>\n",
       "      <td>225.0</td>\n",
       "      <td>150.0</td>\n",
       "      <td>95.0</td>\n",
       "      <td>28.58</td>\n",
       "      <td>65.0</td>\n",
       "      <td>103.0</td>\n",
       "      <td>1</td>\n",
       "    </tr>\n",
       "    <tr>\n",
       "      <th>4</th>\n",
       "      <td>0</td>\n",
       "      <td>46</td>\n",
       "      <td>3.0</td>\n",
       "      <td>1</td>\n",
       "      <td>23.0</td>\n",
       "      <td>0.0</td>\n",
       "      <td>0</td>\n",
       "      <td>0</td>\n",
       "      <td>0</td>\n",
       "      <td>285.0</td>\n",
       "      <td>130.0</td>\n",
       "      <td>84.0</td>\n",
       "      <td>23.10</td>\n",
       "      <td>85.0</td>\n",
       "      <td>85.0</td>\n",
       "      <td>0</td>\n",
       "    </tr>\n",
       "  </tbody>\n",
       "</table>\n",
       "</div>"
      ],
      "text/plain": [
       "   male  age  education  currentSmoker  cigsPerDay  BPMeds  prevalentStroke  \\\n",
       "0     1   39        4.0              0         0.0     0.0                0   \n",
       "1     0   46        2.0              0         0.0     0.0                0   \n",
       "2     1   48        1.0              1        20.0     0.0                0   \n",
       "3     0   61        3.0              1        30.0     0.0                0   \n",
       "4     0   46        3.0              1        23.0     0.0                0   \n",
       "\n",
       "   prevalentHyp  diabetes  totChol  sysBP  diaBP    BMI  heartRate  glucose  \\\n",
       "0             0         0    195.0  106.0   70.0  26.97       80.0     77.0   \n",
       "1             0         0    250.0  121.0   81.0  28.73       95.0     76.0   \n",
       "2             0         0    245.0  127.5   80.0  25.34       75.0     70.0   \n",
       "3             1         0    225.0  150.0   95.0  28.58       65.0    103.0   \n",
       "4             0         0    285.0  130.0   84.0  23.10       85.0     85.0   \n",
       "\n",
       "   TenYearCHD  \n",
       "0           0  \n",
       "1           0  \n",
       "2           0  \n",
       "3           1  \n",
       "4           0  "
      ]
     },
     "execution_count": 1,
     "metadata": {},
     "output_type": "execute_result"
    }
   ],
   "source": [
    "## In-Class Assignment 13 - Evan Callaghan\n",
    "\n",
    "import boto3\n",
    "import pandas as pd\n",
    "import numpy as np\n",
    "from sklearn.model_selection import train_test_split\n",
    "from sklearn.ensemble import RandomForestClassifier\n",
    "from sklearn.linear_model import LogisticRegression, Lasso, LassoCV\n",
    "from sklearn.preprocessing import MinMaxScaler\n",
    "from sklearn.metrics import recall_score\n",
    "\n",
    "## Defining the bucket\n",
    "s3 = boto3.resource('s3')\n",
    "bucket_name = 'data-445-bucket-callaghan'\n",
    "bucket = s3.Bucket(bucket_name)\n",
    "\n",
    "## Defining the csv file\n",
    "file_key = 'framingham.csv'\n",
    "\n",
    "bucket_object = bucket.Object(file_key)\n",
    "file_object = bucket_object.get()\n",
    "file_content_stream = file_object.get('Body')\n",
    "\n",
    "## 1. Using the pandas library to read the csv data file and create a data-frame called heart\n",
    "heart = pd.read_csv(file_content_stream)\n",
    "\n",
    "heart.head()"
   ]
  },
  {
   "cell_type": "code",
   "execution_count": 2,
   "id": "332f159d",
   "metadata": {},
   "outputs": [],
   "source": [
    "## 2. Removing observations with missing values\n",
    "\n",
    "heart = heart.dropna()"
   ]
  },
  {
   "cell_type": "code",
   "execution_count": 3,
   "id": "480565ff",
   "metadata": {},
   "outputs": [],
   "source": [
    "## 3. Using male, age, currentSmoker, totChol, sysBP,BMI, heartRate, and glucose as the\n",
    "## predictor variables, and TenYearCHD is the target variable to split the data into two data-frames (taking\n",
    "## into account the proportion of 0s and 1s): train (80%) and test (20%).\n",
    "\n",
    "X = heart[['male', 'age', 'currentSmoker', 'totChol', 'sysBP', 'heartRate', 'glucose']]\n",
    "Y = heart['TenYearCHD']\n",
    "\n",
    "X_train, X_test, Y_train, Y_test = train_test_split(X, Y, test_size = 0.2, stratify = Y)"
   ]
  },
  {
   "cell_type": "code",
   "execution_count": 4,
   "id": "4fe06704",
   "metadata": {},
   "outputs": [],
   "source": [
    "## 4. Transforming each of the input variables in the train and test dataset to 0-1 scale\n",
    "\n",
    "scaler = MinMaxScaler(feature_range = (0,1))\n",
    "X_train = pd.DataFrame(scaler.fit_transform(X_train), columns = X_train.columns)\n",
    "X_test = pd.DataFrame(scaler.fit_transform(X_test), columns = X_test.columns)"
   ]
  },
  {
   "cell_type": "code",
   "execution_count": 5,
   "id": "76ccab2e",
   "metadata": {},
   "outputs": [
    {
     "data": {
      "text/plain": [
       "array([ 0.05351871,  0.26412755,  0.04369403,  0.01101356,  0.54816456,\n",
       "       -0.00599441,  0.40814686])"
      ]
     },
     "execution_count": 5,
     "metadata": {},
     "output_type": "execute_result"
    }
   ],
   "source": [
    "## 5. Using the train data-frame to build a LASSO model in which male, age, currentSmoker, totChol, \n",
    "## sysBP,BMI, heartRate, and glucose are the predictor variables, and TenYearCHD is the target variable\n",
    "\n",
    "## Building the model\n",
    "lasso_cv = LassoCV(cv = 5).fit(X_train, Y_train)\n",
    "\n",
    "## Building the LASSO regression\n",
    "lasso_md = Lasso(alpha = lasso_cv.alpha_).fit(X_train, Y_train)\n",
    "\n",
    "## Extracting the coefficients\n",
    "lasso_md.coef_"
   ]
  },
  {
   "cell_type": "code",
   "execution_count": 7,
   "id": "784c7c9b",
   "metadata": {},
   "outputs": [
    {
     "name": "stdout",
     "output_type": "stream",
     "text": [
      "Recall Score of Logistic Regression Model: 0.9107142857142857\n"
     ]
    }
   ],
   "source": [
    "## Using the top 5 variables from the LASSO model (the variables with the highest estimated coefficients in \n",
    "## absolute value) to build a logistic regression model in which TenYearCHD is the target variable\n",
    "\n",
    "## Defining the input variables based on LassoCV coefficients\n",
    "X_train_lasso = X_train[['male', 'age', 'currentSmoker', 'sysBP', 'glucose']]\n",
    "X_test_lasso = X_test[['male', 'age', 'currentSmoker', 'sysBP', 'glucose']]\n",
    "\n",
    "## Building the model\n",
    "logit_md = LogisticRegression().fit(X_train_lasso, Y_train)\n",
    "\n",
    "## Predicting on the test set\n",
    "logit_preds = logit_md.predict_proba(X_test_lasso)[:, 1]\n",
    "\n",
    "## Using 10% as cutoff value and reporting the recall\n",
    "logit_preds = np.where(logit_preds < 0.1, 0, 1)\n",
    "\n",
    "print('Recall Score of Logistic Regression Model:', recall_score(Y_test, logit_preds))"
   ]
  },
  {
   "cell_type": "code",
   "execution_count": 8,
   "id": "c75ba50d",
   "metadata": {},
   "outputs": [
    {
     "data": {
      "text/plain": [
       "array([0.02396792, 0.17397011, 0.02560305, 0.2023893 , 0.23388476,\n",
       "       0.15054446, 0.1896404 ])"
      ]
     },
     "execution_count": 8,
     "metadata": {},
     "output_type": "execute_result"
    }
   ],
   "source": [
    "## 6. Using the train data-frame to build a random forest model (with 500 trees) in which: male,\n",
    "## age, currentSmoker, totChol, sysBP,BMI, heartRate, and glucose are the predictor variables, and\n",
    "## TenYearCHD is the target variable\n",
    "\n",
    "rf_md = RandomForestClassifier(n_estimators = 500).fit(X_train, Y_train)\n",
    "\n",
    "## Extracting feature importance values\n",
    "rf_md.feature_importances_"
   ]
  },
  {
   "cell_type": "code",
   "execution_count": 10,
   "id": "9a458ac8",
   "metadata": {},
   "outputs": [
    {
     "name": "stdout",
     "output_type": "stream",
     "text": [
      "Recall Score of Random Forest Model: 0.9285714285714286\n"
     ]
    }
   ],
   "source": [
    "## Using the top 5 variables from the random forest model (the variables with the highest importance values) \n",
    "## to build a random forest model in which TenYearCHD is the target variable\n",
    "\n",
    "## Defining the input variables based on Rnadom Forest feature importance measures\n",
    "X_train_rf = X_train[['age', 'totChol', 'sysBP', 'heartRate', 'glucose']]\n",
    "X_test_rf = X_test[['age', 'totChol', 'sysBP', 'heartRate', 'glucose']]\n",
    "\n",
    "## Building the model\n",
    "rf_md = RandomForestClassifier(n_estimators = 500, max_depth = 5).fit(X_train_rf, Y_train)\n",
    "\n",
    "## Predicting on the test set\n",
    "rf_preds = rf_md.predict_proba(X_test_rf)[:, 1]\n",
    "\n",
    "## Using 10% as cutoff value and reporting the recall\n",
    "rf_preds = np.where(rf_preds < 0.1, 0, 1)\n",
    "\n",
    "print('Recall Score of Random Forest Model:', recall_score(Y_test, rf_preds))"
   ]
  },
  {
   "cell_type": "code",
   "execution_count": null,
   "id": "cac852d7",
   "metadata": {},
   "outputs": [],
   "source": [
    "## 7. Using the results from parts (5) and (6), we would use the Random Forest Classifier model to predict \n",
    "## TenYearCHD because it has the higher recall score of the two considered models."
   ]
  }
 ],
 "metadata": {
  "kernelspec": {
   "display_name": "conda_python3",
   "language": "python",
   "name": "conda_python3"
  },
  "language_info": {
   "codemirror_mode": {
    "name": "ipython",
    "version": 3
   },
   "file_extension": ".py",
   "mimetype": "text/x-python",
   "name": "python",
   "nbconvert_exporter": "python",
   "pygments_lexer": "ipython3",
   "version": "3.6.13"
  }
 },
 "nbformat": 4,
 "nbformat_minor": 5
}

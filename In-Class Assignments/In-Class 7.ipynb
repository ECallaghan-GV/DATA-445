{
 "cells": [
  {
   "cell_type": "code",
   "execution_count": 5,
   "id": "216798a6",
   "metadata": {},
   "outputs": [
    {
     "data": {
      "text/html": [
       "<div>\n",
       "<style scoped>\n",
       "    .dataframe tbody tr th:only-of-type {\n",
       "        vertical-align: middle;\n",
       "    }\n",
       "\n",
       "    .dataframe tbody tr th {\n",
       "        vertical-align: top;\n",
       "    }\n",
       "\n",
       "    .dataframe thead th {\n",
       "        text-align: right;\n",
       "    }\n",
       "</style>\n",
       "<table border=\"1\" class=\"dataframe\">\n",
       "  <thead>\n",
       "    <tr style=\"text-align: right;\">\n",
       "      <th></th>\n",
       "      <th>Species</th>\n",
       "      <th>Weight</th>\n",
       "      <th>Length1</th>\n",
       "      <th>Length2</th>\n",
       "      <th>Length3</th>\n",
       "      <th>Height</th>\n",
       "      <th>Width</th>\n",
       "    </tr>\n",
       "  </thead>\n",
       "  <tbody>\n",
       "    <tr>\n",
       "      <th>0</th>\n",
       "      <td>Bream</td>\n",
       "      <td>242.0</td>\n",
       "      <td>23.2</td>\n",
       "      <td>25.4</td>\n",
       "      <td>30.0</td>\n",
       "      <td>11.5200</td>\n",
       "      <td>4.0200</td>\n",
       "    </tr>\n",
       "    <tr>\n",
       "      <th>1</th>\n",
       "      <td>Bream</td>\n",
       "      <td>290.0</td>\n",
       "      <td>24.0</td>\n",
       "      <td>26.3</td>\n",
       "      <td>31.2</td>\n",
       "      <td>12.4800</td>\n",
       "      <td>4.3056</td>\n",
       "    </tr>\n",
       "    <tr>\n",
       "      <th>2</th>\n",
       "      <td>Bream</td>\n",
       "      <td>340.0</td>\n",
       "      <td>23.9</td>\n",
       "      <td>26.5</td>\n",
       "      <td>31.1</td>\n",
       "      <td>12.3778</td>\n",
       "      <td>4.6961</td>\n",
       "    </tr>\n",
       "    <tr>\n",
       "      <th>3</th>\n",
       "      <td>Bream</td>\n",
       "      <td>363.0</td>\n",
       "      <td>26.3</td>\n",
       "      <td>29.0</td>\n",
       "      <td>33.5</td>\n",
       "      <td>12.7300</td>\n",
       "      <td>4.4555</td>\n",
       "    </tr>\n",
       "    <tr>\n",
       "      <th>4</th>\n",
       "      <td>Bream</td>\n",
       "      <td>430.0</td>\n",
       "      <td>26.5</td>\n",
       "      <td>29.0</td>\n",
       "      <td>34.0</td>\n",
       "      <td>12.4440</td>\n",
       "      <td>5.1340</td>\n",
       "    </tr>\n",
       "  </tbody>\n",
       "</table>\n",
       "</div>"
      ],
      "text/plain": [
       "  Species  Weight  Length1  Length2  Length3   Height   Width\n",
       "0   Bream   242.0     23.2     25.4     30.0  11.5200  4.0200\n",
       "1   Bream   290.0     24.0     26.3     31.2  12.4800  4.3056\n",
       "2   Bream   340.0     23.9     26.5     31.1  12.3778  4.6961\n",
       "3   Bream   363.0     26.3     29.0     33.5  12.7300  4.4555\n",
       "4   Bream   430.0     26.5     29.0     34.0  12.4440  5.1340"
      ]
     },
     "execution_count": 5,
     "metadata": {},
     "output_type": "execute_result"
    }
   ],
   "source": [
    "## In-Class Assignment 7 - Evan Callaghan\n",
    "\n",
    "import boto3\n",
    "import pandas as pd\n",
    "import numpy as np\n",
    "from sklearn.model_selection import train_test_split\n",
    "from sklearn.linear_model import LinearRegression, Ridge, RidgeCV, Lasso, LassoCV\n",
    "\n",
    "## Defining the bucket\n",
    "s3 = boto3.resource('s3')\n",
    "bucket_name = 'data-445-bucket-callaghan'\n",
    "bucket = s3.Bucket(bucket_name)\n",
    "\n",
    "## Defining the csv file\n",
    "file_key = 'Fish.csv'\n",
    "\n",
    "bucket_object = bucket.Object(file_key)\n",
    "file_object = bucket_object.get()\n",
    "file_content_stream = file_object.get('Body')\n",
    "\n",
    "## Using the pandas library to read the csv data file and create a data-frame called fish\n",
    "fish = pd.read_csv(file_content_stream)\n",
    "\n",
    "fish.head()"
   ]
  },
  {
   "cell_type": "code",
   "execution_count": 6,
   "id": "be56837e",
   "metadata": {},
   "outputs": [],
   "source": [
    "## 2. Using the Length1, Lenght2, Length3, Height, and Width as the predictor variables, and Weight as the target variable to split the data into \n",
    "## train (80%) and test (20%)\n",
    "\n",
    "## Defining input and target variables\n",
    "X = fish[['Length1', 'Length2', 'Length3', 'Height', 'Width']]\n",
    "Y = fish['Weight']\n",
    "\n",
    "## Splitting the data\n",
    "X_train, X_test, Y_train, Y_test = train_test_split(X, Y, test_size = 0.2)"
   ]
  },
  {
   "cell_type": "code",
   "execution_count": 8,
   "id": "93aebbd8",
   "metadata": {},
   "outputs": [
    {
     "data": {
      "text/plain": [
       "array([ 45.78588778,   0.        , -21.12867079,  21.94038193,\n",
       "        36.66113032])"
      ]
     },
     "execution_count": 8,
     "metadata": {},
     "output_type": "execute_result"
    }
   ],
   "source": [
    "## 3. Using the train dataset to perform LASSO as a variable selector\n",
    "\n",
    "## Lasso CV for estimating alpha\n",
    "lasso_cv = LassoCV(normalize = True, cv = 5, max_iter = 10000).fit(X_train, Y_train)\n",
    "\n",
    "## Extracting the optimal alpha \n",
    "lasso_alpha = lasso_cv.alpha_\n",
    "\n",
    "## Variable selection\n",
    "lasso_md = Lasso(alpha = lasso_alpha, normalize = True, max_iter = 10000).fit(X_train, Y_train)\n",
    "\n",
    "lasso_md.coef_\n",
    "\n",
    "## Length2 set equal to zero! Can be eliminated from the test and train sets."
   ]
  },
  {
   "cell_type": "code",
   "execution_count": 9,
   "id": "8b70fbaa",
   "metadata": {},
   "outputs": [],
   "source": [
    "## 4. Using the variables from LASSO regression to normalize the inputs variables of the train and test datasets using the L2 normalization\n",
    "\n",
    "## Dropping the Length2 variable\n",
    "X_train = X_train.drop(columns = ['Length2'], axis = 1)\n",
    "X_test = X_test.drop(columns = ['Length2'], axis = 1)\n",
    "\n",
    "\n",
    "## Function for l2 normalization\n",
    "def l2_normalization(X):\n",
    "    x_mean = np.mean(X)\n",
    "    l2 = np.sqrt(sum(X**2))\n",
    "    l2_norm = (X - x_mean) / l2\n",
    "    return l2_norm\n",
    "\n",
    "\n",
    "## Normalizing the train and test sets using the above function\n",
    "X_train = X_train.apply(l2_normalization, axis = 1)\n",
    "X_test = X_test.apply(l2_normalization, axis = 1)\n"
   ]
  },
  {
   "cell_type": "code",
   "execution_count": 13,
   "id": "eca6f71a",
   "metadata": {},
   "outputs": [
    {
     "data": {
      "text/plain": [
       "108325.40538082985"
      ]
     },
     "execution_count": 13,
     "metadata": {},
     "output_type": "execute_result"
    }
   ],
   "source": [
    "## 5. Using the train dataset to build a linear regression model\n",
    "\n",
    "\n",
    "lm_md1 = LinearRegression().fit(X_train, Y_train)\n",
    "\n",
    "md1_pred = lm_md1.predict(X_test)\n",
    "\n",
    "mse1 = np.mean(np.power(md1_pred - Y_test, 2))\n",
    "\n",
    "## Reporting the MSE of this model.\n",
    "mse1\n",
    "\n",
    "## The MSE of this model is 108325"
   ]
  },
  {
   "cell_type": "code",
   "execution_count": 17,
   "id": "da25148d",
   "metadata": {},
   "outputs": [
    {
     "data": {
      "text/plain": [
       "106683.294334641"
      ]
     },
     "execution_count": 17,
     "metadata": {},
     "output_type": "execute_result"
    }
   ],
   "source": [
    "## 6.  Using the train dataset to build a ridge regression model\n",
    "\n",
    "## Estimating alpha\n",
    "ridge_cv = RidgeCV(alphas = [0.001, 0.01, 0.1, 1, 10, 100], cv = 5).fit(X_train, Y_train)\n",
    "\n",
    "ridge_alpha = ridge_cv.alpha_\n",
    "\n",
    "## Building the ridge model\n",
    "ridge_md = Ridge(alpha = ridge_alpha).fit(X_train, Y_train)\n",
    "\n",
    "## Predicting on the test set\n",
    "md2_pred = ridge_md.predict(X_test)\n",
    "\n",
    "## Calculating the MSE of ridge model\n",
    "mse2 = np.mean(np.power(md2_pred - Y_test, 2))\n",
    "mse2\n",
    "\n",
    "## The MSE of this model is 106683"
   ]
  },
  {
   "cell_type": "code",
   "execution_count": null,
   "id": "31774eed",
   "metadata": {},
   "outputs": [],
   "source": [
    "## 7. Using the results from parts (5) and (6), we would select the ridge regression model to predict fish weight because it has a smaller\n",
    "## MSE value."
   ]
  }
 ],
 "metadata": {
  "kernelspec": {
   "display_name": "conda_python3",
   "language": "python",
   "name": "conda_python3"
  },
  "language_info": {
   "codemirror_mode": {
    "name": "ipython",
    "version": 3
   },
   "file_extension": ".py",
   "mimetype": "text/x-python",
   "name": "python",
   "nbconvert_exporter": "python",
   "pygments_lexer": "ipython3",
   "version": "3.6.13"
  }
 },
 "nbformat": 4,
 "nbformat_minor": 5
}
